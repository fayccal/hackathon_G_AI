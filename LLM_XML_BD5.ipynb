{
 "metadata": {
  "kernelspec": {
   "display_name": "Streamlit Notebook",
   "name": "streamlit"
  },
  "lastEditStatus": {
   "notebookId": "lplqgmlc6usngcz7qh24",
   "authorId": "8265959116425",
   "authorName": "EAGLE",
   "authorEmail": "",
   "sessionId": "2183bb00-74d4-44d0-a897-38218bd56f46",
   "lastEditTime": 1744205393408
  }
 },
 "nbformat_minor": 5,
 "nbformat": 4,
 "cells": [
  {
   "cell_type": "code",
   "id": "3775908f-ca36-4846-8f38-5adca39217f2",
   "metadata": {
    "language": "python",
    "name": "cell1"
   },
   "source": "# Import python packages\nimport streamlit as st\nimport pandas as pd\nfrom snowflake.cortex import complete\n\n# We can also use Snowpark for our analyses!\nfrom snowflake.snowpark.context import get_active_session\nsession = get_active_session()\n\n",
   "execution_count": null,
   "outputs": []
  },
  {
   "cell_type": "code",
   "id": "c695373e-ac74-4b62-a1f1-08206cbd5c81",
   "metadata": {
    "language": "python",
    "name": "cell3"
   },
   "source": "",
   "execution_count": null,
   "outputs": []
  },
  {
   "cell_type": "code",
   "id": "b2dc131d-a6e1-4979-ac57-865737972b68",
   "metadata": {
    "language": "python",
    "name": "cell5"
   },
   "outputs": [],
   "source": "prompt_template = \"\"\"You are an expert in technical documentation and XML structuring, specializing in the S1000D standard.\nYour task is to modify the provided XML document by applying the requested instructions, which may include deletion and insertion\nwhile strictly adhering to the provided XSD schema.\n\n\nThe provided XML document is as follows: <XMLDOC>{the_xml}</XMLDOC>\n\nThe modifications to be applied to the XML document are the following instructions: <modification>{modification}</modification>.\n\nThe XSD document to respect and it's imports are the following: <XSD>{full_xsd}</XSD>\n\n<output>\nYou must return **only the complete and well-formed XML document** after all modifications have been applied.\n\n- The output must include the **entire XML document** from the first line (e.g., `<?xml...?>`) to the last closing tag with the entire content.\n- **All unchanged parts of the document must be preserved and present.**\n- All specified modifications must be included and applied in the appropriate locations.\n- The XML must be syntactically valid, with all tags properly opened and closed.\n- Do not add comments in the xml.\n- Do not return any explanations, notes, or extra text — only the final modified XML document.\n</output>\n\n\"\"\"\n\n\n\n\n\ncontinue_prompt = \"\"\"\nYou are an expert in technical documentation and XML structuring, specializing in the S1000D standard.\n\nYou previously started modifying the provided XML document according to specific instructions and in compliance with the given XSD schema.\n\nHere is the partial output generated so far:\n<partial_output>\n{previous_output}\n</partial_output>\n\nContinue generating the modified XML from where you left off, preserving all previous content and continuing seamlessly.\n\nDo not return any explanation or additional information — only the next part of the modified XML document.\nStop exactly when you reach the end of the complete modified XML document, or when the output limit is reached.\n\nContext:\nOriginal XML document:\n<XMLDOC>\n{the_xml}\n</XMLDOC>\n\nModifications to be applied:\n<modification>\n{modification}\n</modification>\n\nThe XSD schema and its imports to comply with:\n<XSD>\n{full_xsd}\n</XSD>\n\"\"\"",
   "execution_count": null
  },
  {
   "cell_type": "code",
   "id": "570e227d-8602-4d37-b7c0-aa5b4488125b",
   "metadata": {
    "language": "python",
    "name": "cell2"
   },
   "outputs": [],
   "source": "import xml.etree.ElementTree as ET\nfrom urllib.parse import urlparse\nimport os\n\ndef get_contenu_from_table(xsd_name:str):\n    # retourn le contenu d'un xsd\n    df = session.table(\"XSD_FILES_2\")\n    \n    filtered_df = df.filter(df[\"nom_xsd\"] == xsd_name).select(\"contenu\")\n    \n    # Collect result and extract value\n    rows = filtered_df.collect()\n    \n    if rows:\n        contenu_value = rows[0][\"CONTENU\"]  # Case-sensitive key\n        return contenu_value\n        #print(\"Contenu for file_xsd = 'proced':\", contenu_value)\n    else:\n        return \"\"\n\n\ndef extract_imported_xsds(xsd_string):\n    #extract les imports xsd\n    try:\n        root = ET.fromstring(xsd_string)\n        imports = []\n        imports_w_extension = []\n\n        # Parcours des éléments <xs:import> pour extraire les schémas importés\n        for elem in root.iter():\n            if elem.tag.endswith('import'):\n                schema_location = elem.attrib.get('schemaLocation')\n                if schema_location:\n                    # Extraction du nom du fichier sans l'extension .xsd\n                    filename = os.path.basename(schema_location.strip())\n                    name_without_extension = os.path.splitext(filename)[0]\n                    imports_w_extension.append(filename)\n                    imports.append(name_without_extension)\n\n        return imports, imports_w_extension\n    except ET.ParseError as e:\n        print(f\"Erreur lors de l'analyse du XSD : {e}\")\n        return []\n        \n\ndef extract_xsd_name(xml_string):\n    # extract le xsd du xml\n    try:\n        root = ET.fromstring(xml_string)\n        xsi_ns = \"http://www.w3.org/2001/XMLSchema-instance\"\n\n        # Get noNamespaceSchemaLocation\n        no_ns_location = root.attrib.get(f\"{{{xsi_ns}}}noNamespaceSchemaLocation\")\n        schema_url = None\n\n        if no_ns_location:\n            schema_url = no_ns_location.strip()\n        else:\n            # Fallback to schemaLocation if needed\n            schema_location = root.attrib.get(f\"{{{xsi_ns}}}schemaLocation\")\n            if schema_location:\n                parts = schema_location.strip().split()\n                if parts:\n                    schema_url = parts[-1]  # Assume last is the schema URL\n\n        if schema_url:\n            filename = os.path.basename(urlparse(schema_url).path)\n            return os.path.splitext(filename)[0]  # Return filename without .xsd\n\n        return None\n\n    except ET.ParseError as e:\n        print(f\"XML parsing error: {e}\")\n        return None\n\n\ndef get_all_xsd_content(xml):\n\n    xsd_prin_name = extract_xsd_name(xml)\n    xsd_princ_content = get_contenu_from_table(xsd_prin_name)\n    import_names, import_w_extension = extract_imported_xsds(xsd_princ_content)\n    \n    importes_content = []\n    importes_map = {}\n    #for i in import_names:\n    #    importes_content.append(get_contenu_from_table(i))\n    for i in range(len(import_names)):\n        icontent = get_contenu_from_table(import_names[i])\n        importes_content.append(icontent)\n        importes_map[import_w_extension[i]] = icontent\n\n    full_xsd = \"This is the main xsd:\\n\"\n    full_xsd = full_xsd + xsd_princ_content + \"\\n\\n\"\n    \n    for i in importes_content:\n        full_xsd = full_xsd + \"One of the imports of the xsd : \\n\" + i + \"\\n\"\n    return full_xsd, xsd_princ_content, importes_map\n\n#full_xsd,main_xsd, importes_map = get_all_xsd_content(the_xml)",
   "execution_count": null
  },
  {
   "cell_type": "code",
   "id": "6ba1b78f-e8c7-49ff-a9c1-b2edffa9f2d1",
   "metadata": {
    "language": "python",
    "name": "cell6"
   },
   "outputs": [],
   "source": "from snowflake.snowpark.functions import col\n\ndf_case = session.table(\"TEST_CASE2\")\n\n# 3. Sort the table to get the \"last\" row — you need to define what \"last\" means (usually based on a timestamp or ID)\n# Replace 'your_column' with the appropriate column to sort by\n#rows = session.table(\"TEST_CASE2\").collect()",
   "execution_count": null
  },
  {
   "cell_type": "code",
   "id": "9f2e7f54-0c17-412a-9332-8aa95e562685",
   "metadata": {
    "language": "python",
    "name": "cell7"
   },
   "outputs": [],
   "source": "query = \"\"\"\nSELECT SNOWFLAKE.CORTEX.COMPLETE(\n    'claude-3-5-sonnet',\n    TO_VARIANT(ARRAY_CONSTRUCT(\n        OBJECT_CONSTRUCT(\n            'role', 'user',\n            'content', ?\n        )\n    )),\n    OBJECT_CONSTRUCT('max_tokens', 8192)\n) AS result;\n\"\"\"",
   "execution_count": null
  },
  {
   "cell_type": "code",
   "id": "4f2c6116-6e5a-4719-8848-62455035507a",
   "metadata": {
    "language": "python",
    "name": "cell8"
   },
   "outputs": [],
   "source": "def clean_xml_string_simple(s):\n    return s.replace(\"```xml\", \"\").replace(\"```\", \"\").strip()",
   "execution_count": null
  },
  {
   "cell_type": "code",
   "id": "cbd19925-f4b3-47e0-a6b0-8d644f522956",
   "metadata": {
    "language": "python",
    "name": "cell4"
   },
   "outputs": [],
   "source": "import json\n\nrows = df_case.collect()\n\nnew_data = []\n# Loop through each row\nfor row in rows:\n    original = row[\"XML\"]\n    instruction = row[\"INSTRUCTION\"]\n    xml_modif = row[\"XML_MODIF\"]\n\n    final_xml = None\n    full_xsd, main_xsd, importes_map = get_all_xsd_content(original)\n    prompt_xml = prompt_template.format(the_xml=original, modification=instruction, full_xsd=full_xsd)\n    \n    df = session.sql(query, params=[prompt_xml])\n    result = df.collect()[0]['RESULT']\n    response = json.loads(result)  # convertir en dictionnaire Python\n    edited_xml = response['choices'][0]['messages']\n    nb_token = response['usage'][\"completion_tokens\"]\n\n    continue_xml = None\n            #continue part\n    if nb_token > 4080:\n        \n        edited_xml = edited_xml.rsplit('\\n', 1)[0]\n        next_prompt = continue_prompt.format(previous_output=edited_xml, the_xml=original, modification=instruction, full_xsd=full_xsd)\n        df = session.sql(query, params=[next_prompt])\n        result = df.collect()[0]['RESULT']\n        response = json.loads(result)  # convertir en dictionnaire Python\n        continue_xml = response['choices'][0]['messages']\n        continue_xml = clean_xml_string_simple(continue_xml)\n        nb_token = response['usage'][\"completion_tokens\"]\n        \n    if continue_xml != None:\n                final_xml = edited_xml + \"\\n\" + continue_xml\n    else: \n        final_xml = edited_xml\n\n    new_data.append({\n        \"XML\": original,\n        \"XML_MODIF\": xml_modif,\n        \"INSTRUCTIONS\": instruction,\n        \"PREDICTED_XML\": final_xml\n    })\n\ndf_with_predictions = session.create_dataframe(pd.DataFrame(new_data))\n\n# Step 5: Save as a new table\ndf_with_predictions.write.mode(\"overwrite\").save_as_table(\"TEST_CASE2_PREDICTED\")",
   "execution_count": null
  },
  {
   "cell_type": "code",
   "id": "65d78252-0fa0-40e2-bb93-0de7c272feed",
   "metadata": {
    "language": "python",
    "name": "cell9"
   },
   "outputs": [],
   "source": "df_predicted = session.table(\"TEST_CASE2_PREDICTED\")\ndf_predicted",
   "execution_count": null
  }
 ]
}